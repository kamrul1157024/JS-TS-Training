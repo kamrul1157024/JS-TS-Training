{
 "cells": [
  {
   "cell_type": "markdown",
   "id": "66415f3c-1ded-4f65-bea5-aa1fa5b9a170",
   "metadata": {
    "jp-MarkdownHeadingCollapsed": true
   },
   "source": [
    "# Scopes"
   ]
  },
  {
   "cell_type": "markdown",
   "id": "c7143003-8738-4f0a-b7f0-7601fce5f8c5",
   "metadata": {},
   "source": [
    "## Temporal Dead Zone:\n",
    "A variable declared with let, const, or class is said to be in a \"temporal dead zone\" (TDZ) from the start of the block until code execution reaches the place where the variable is declared and initialized."
   ]
  },
  {
   "cell_type": "code",
   "execution_count": 235,
   "id": "71c16b4d-8c06-4a80-a832-ad4f27442e4a",
   "metadata": {},
   "outputs": [
    {
     "ename": "ReferenceError",
     "evalue": "xx is not defined",
     "output_type": "error",
     "traceback": [
      "Stack trace:",
      "ReferenceError: xx is not defined",
      "    at <anonymous>:3:14"
     ]
    }
   ],
   "source": [
    "{\n",
    "    let xx = 2;\n",
    "}\n",
    "console.log(xx)"
   ]
  },
  {
   "cell_type": "code",
   "execution_count": 237,
   "id": "c42e4ca7-6e9e-4cf7-b3ea-f8cfc53d6aa4",
   "metadata": {},
   "outputs": [
    {
     "ename": "ReferenceError",
     "evalue": "cxx is not defined",
     "output_type": "error",
     "traceback": [
      "Stack trace:",
      "ReferenceError: cxx is not defined",
      "    at <anonymous>:3:14"
     ]
    }
   ],
   "source": [
    "{\n",
    "    const cxx = 2;\n",
    "}\n",
    "console.log(cxx)"
   ]
  },
  {
   "cell_type": "code",
   "execution_count": 238,
   "id": "30680600-cd60-4c0f-b6d4-e54631cc1434",
   "metadata": {},
   "outputs": [
    {
     "name": "stdout",
     "output_type": "stream",
     "text": [
      "\u001b[33m2\u001b[39m\n"
     ]
    }
   ],
   "source": [
    "{\n",
    "    var varX = 2;\n",
    "}\n",
    "console.log(varX);"
   ]
  },
  {
   "cell_type": "code",
   "execution_count": 242,
   "id": "14c11e3c-2999-414a-ab85-a8b32a27b6b3",
   "metadata": {},
   "outputs": [
    {
     "name": "stdout",
     "output_type": "stream",
     "text": [
      "\u001b[33m3\u001b[39m\n"
     ]
    }
   ],
   "source": [
    "if(true){\n",
    "    var tt = 3;\n",
    "}\n",
    "console.log(tt)"
   ]
  },
  {
   "cell_type": "code",
   "execution_count": 243,
   "id": "0c1989ee-6871-4d0a-8bf4-db81871d4964",
   "metadata": {},
   "outputs": [
    {
     "ename": "ReferenceError",
     "evalue": "lt is not defined",
     "output_type": "error",
     "traceback": [
      "Stack trace:",
      "ReferenceError: lt is not defined",
      "    at <anonymous>:4:13"
     ]
    }
   ],
   "source": [
    "if(true){\n",
    "    let lt = 4;\n",
    "}\n",
    "console.log(lt)"
   ]
  },
  {
   "cell_type": "markdown",
   "id": "0de05aa6-e34a-4c51-91a2-fd998185fe31",
   "metadata": {},
   "source": [
    "## Function Scope:"
   ]
  },
  {
   "cell_type": "code",
   "execution_count": 239,
   "id": "103e3f79-9422-4f70-9f02-e9ad0b35816a",
   "metadata": {},
   "outputs": [
    {
     "ename": "ReferenceError",
     "evalue": "testVar is not defined",
     "output_type": "error",
     "traceback": [
      "Stack trace:",
      "ReferenceError: testVar is not defined",
      "    at <anonymous>:4:13"
     ]
    }
   ],
   "source": [
    "function test(){\n",
    "    let letVar = 3;\n",
    "}\n",
    "console.log(testVar);"
   ]
  },
  {
   "cell_type": "code",
   "execution_count": 240,
   "id": "9a7b5264-ba53-4b81-9756-19f7b2678980",
   "metadata": {},
   "outputs": [
    {
     "ename": "ReferenceError",
     "evalue": "testVar is not defined",
     "output_type": "error",
     "traceback": [
      "Stack trace:",
      "ReferenceError: testVar is not defined",
      "    at <anonymous>:4:13"
     ]
    }
   ],
   "source": [
    "function test(){\n",
    "    const constVar = 3;\n",
    "}\n",
    "console.log(testVar);"
   ]
  },
  {
   "cell_type": "code",
   "execution_count": 241,
   "id": "fd5ea44d-683a-4edc-ab1a-5da795acce4c",
   "metadata": {},
   "outputs": [
    {
     "ename": "ReferenceError",
     "evalue": "testVar is not defined",
     "output_type": "error",
     "traceback": [
      "Stack trace:",
      "ReferenceError: testVar is not defined",
      "    at <anonymous>:4:13"
     ]
    }
   ],
   "source": [
    "function test(){\n",
    "    var testVar = 3;\n",
    "}\n",
    "console.log(testVar);"
   ]
  },
  {
   "cell_type": "markdown",
   "id": "c8c1c9a2-0ed4-4590-b501-22185451b8f2",
   "metadata": {},
   "source": [
    "## Hoisting"
   ]
  },
  {
   "cell_type": "markdown",
   "id": "282b2ec1-f446-4280-a38e-077fedefd0c0",
   "metadata": {},
   "source": [
    "JavaScript Hoisting refers to the process whereby the interpreter appears to move the declaration of functions, variables, classes, or imports to the top of their scope, prior to execution of the code.\n",
    "- Being able to use a variable's value in its scope before the line it is declared. (\"Value hoisting\")\n",
    "- Being able to reference a variable in its scope before the line it is declared, without throwing a ReferenceError, but the value is always undefined. (\"Declaration hoisting\")\n",
    "- The declaration of the variable causes behavior changes in its scope before the line in which it is declared.\n",
    "- The side effects of a declaration are produced before evaluating the rest of the code that contains it."
   ]
  },
  {
   "cell_type": "code",
   "execution_count": 258,
   "id": "3e476ef1-cd6a-4737-abc8-3a3489c045d1",
   "metadata": {},
   "outputs": [
    {
     "name": "stdout",
     "output_type": "stream",
     "text": [
      "before\n",
      "after\n"
     ]
    }
   ],
   "source": [
    "function after(){\n",
    "    before();\n",
    "    console.log('after');\n",
    "}\n",
    "function before(){\n",
    "    console.log('before')\n",
    "}\n",
    "\n",
    "after()"
   ]
  },
  {
   "cell_type": "markdown",
   "id": "77731443-13af-4d9c-b1d8-7933ed3135f7",
   "metadata": {},
   "source": [
    "Some prefer to see let, const, and class as non-hoisting, because the temporal dead zone strictly forbids any use of the variable before its declaration. This dissent is fine, since hoisting is not a universally-agreed term"
   ]
  },
  {
   "cell_type": "code",
   "execution_count": 259,
   "id": "e9b5e204-b0e3-489e-a6a1-8df42d69445c",
   "metadata": {},
   "outputs": [
    {
     "ename": "ReferenceError",
     "evalue": "Cannot access 'x' before initialization",
     "output_type": "error",
     "traceback": [
      "Stack trace:",
      "ReferenceError: Cannot access 'x' before initialization",
      "    at <anonymous>:3:15"
     ]
    }
   ],
   "source": [
    "const x = 1;\n",
    "{\n",
    "  console.log(x); // ReferenceError\n",
    "  const x = 2;\n",
    "}"
   ]
  },
  {
   "cell_type": "markdown",
   "id": "e41d6692-797b-475c-900a-092f2a5e0ce1",
   "metadata": {},
   "source": [
    "## Closure:\n",
    "a closure gives a function access to its outer scope. In JavaScript, closures are created every time a function is created, at function creation time."
   ]
  },
  {
   "cell_type": "code",
   "execution_count": 261,
   "id": "3b60e1e3-bb9c-405b-b66e-4c26708fcce7",
   "metadata": {},
   "outputs": [
    {
     "name": "stdout",
     "output_type": "stream",
     "text": [
      "Mozilla\n"
     ]
    }
   ],
   "source": [
    "function makeFunc() {\n",
    "  const name = \"Mozilla\";\n",
    "  function displayName() {\n",
    "    console.log(name);\n",
    "  }\n",
    "  return displayName;\n",
    "}\n",
    "\n",
    "const myFunc = makeFunc();\n",
    "myFunc();"
   ]
  },
  {
   "cell_type": "markdown",
   "id": "3d159f6a-93b4-4dbb-8971-d44dc386d29e",
   "metadata": {},
   "source": [
    "# Functions:"
   ]
  },
  {
   "cell_type": "code",
   "execution_count": null,
   "id": "54d9dcff-2fe1-4b5f-8ad7-97b4755fd19a",
   "metadata": {},
   "outputs": [],
   "source": [
    "function fnA(a, b){\n",
    "    return a + b\n",
    "}\n",
    "\n",
    "const fnB = (a, b) => {\n",
    "    return a + b;\n",
    "}\n",
    "\n",
    "const fnB = (a, b) => a + b"
   ]
  },
  {
   "cell_type": "markdown",
   "id": "510de0ba-18d8-49dd-a7fe-c4f5b1900c48",
   "metadata": {},
   "source": [
    "Difference Between arrow function and normal funciton definition is `this` context. The regular function defines own this context on runtime, arrow function does not have any `this` context."
   ]
  },
  {
   "cell_type": "code",
   "execution_count": 22,
   "id": "63797f26-5c97-45d8-b7cc-bed29ce4ad72",
   "metadata": {},
   "outputs": [
    {
     "name": "stdout",
     "output_type": "stream",
     "text": [
      "{ name: \u001b[32m\"Doly\"\u001b[39m, tellMe: \u001b[36m[Function: tellMe]\u001b[39m }\n",
      "Name is: Doly\n"
     ]
    }
   ],
   "source": [
    "const objectA = {\n",
    "    name: 'Doly',\n",
    "    tellMe(){\n",
    "        console.log(this);\n",
    "        console.log('Name is: ' + this.name);\n",
    "    }\n",
    "}\n",
    "objectA.tellMe()"
   ]
  },
  {
   "cell_type": "code",
   "execution_count": 28,
   "id": "25e70425-9f10-4a17-87d9-0858f460fab8",
   "metadata": {},
   "outputs": [
    {
     "name": "stdout",
     "output_type": "stream",
     "text": [
      "Window {}\n",
      "Name is: \n"
     ]
    }
   ],
   "source": [
    "const objectB = {\n",
    "    name: 'Doly',\n",
    "    tellMe: () => {\n",
    "        console.log(this);\n",
    "        console.log('Name is: ' + this.name);\n",
    "    }\n",
    "}\n",
    "objectB.tellMe()"
   ]
  },
  {
   "cell_type": "code",
   "execution_count": 29,
   "id": "afa06801-8d26-4bcb-8ef9-2f744004e545",
   "metadata": {},
   "outputs": [
    {
     "name": "stdout",
     "output_type": "stream",
     "text": [
      "UserInfo { tellMeArrow: \u001b[36m[Function: tellMeArrow]\u001b[39m, name: \u001b[32m\"Nobita\"\u001b[39m }\n",
      "Nobita\n",
      "UserInfo { tellMeArrow: \u001b[36m[Function: tellMeArrow]\u001b[39m, name: \u001b[32m\"Nobita\"\u001b[39m }\n",
      "Nobita\n"
     ]
    }
   ],
   "source": [
    "class UserInfo {\n",
    "    constructor(){\n",
    "        this.name = 'Nobita';\n",
    "    }\n",
    "\n",
    "    tellMe(){\n",
    "        console.log(this);\n",
    "        console.log(this.name);\n",
    "    }\n",
    "    tellMeArrow = ()=> {\n",
    "        console.log(this);\n",
    "        console.log(this.name);\n",
    "    }\n",
    "}\n",
    "\n",
    "const userInfo = new UserInfo();\n",
    "userInfo.tellMe();\n",
    "userInfo.tellMeArrow();"
   ]
  },
  {
   "cell_type": "code",
   "execution_count": 30,
   "id": "49577542-1b88-4a80-93dd-9064d755e008",
   "metadata": {},
   "outputs": [],
   "source": [
    "function speak(tellerFn){\n",
    "    tellerFn();\n",
    "}"
   ]
  },
  {
   "cell_type": "code",
   "execution_count": 31,
   "id": "dbdb86f8-3c79-424c-bdb0-f9d2c302544c",
   "metadata": {},
   "outputs": [
    {
     "name": "stdout",
     "output_type": "stream",
     "text": [
      "\u001b[90mundefined\u001b[39m\n"
     ]
    },
    {
     "ename": "TypeError",
     "evalue": "Cannot read properties of undefined (reading 'name')",
     "output_type": "error",
     "traceback": [
      "Stack trace:",
      "TypeError: Cannot read properties of undefined (reading 'name')",
      "    at tellMe (<anonymous>:7:22)",
      "    at speak (<anonymous>:2:3)",
      "    at <anonymous>:1:22"
     ]
    }
   ],
   "source": [
    "speak(userInfo.tellMe);"
   ]
  },
  {
   "cell_type": "code",
   "execution_count": 32,
   "id": "ac3739c2-b081-425a-9edf-f8550cc26af2",
   "metadata": {},
   "outputs": [
    {
     "name": "stdout",
     "output_type": "stream",
     "text": [
      "UserInfo { tellMeArrow: \u001b[36m[Function: tellMeArrow]\u001b[39m, name: \u001b[32m\"Nobita\"\u001b[39m }\n",
      "Nobita\n"
     ]
    }
   ],
   "source": [
    "speak(userInfo.tellMeArrow);"
   ]
  },
  {
   "cell_type": "markdown",
   "id": "0a52ef1f-1d30-446f-88fd-5bfc9759ca42",
   "metadata": {},
   "source": [
    "Normal function will have arguments"
   ]
  },
  {
   "cell_type": "code",
   "execution_count": 37,
   "id": "0c6e60a8-9074-4546-a00a-8fbbe46706e9",
   "metadata": {},
   "outputs": [
    {
     "name": "stdout",
     "output_type": "stream",
     "text": [
      "[Arguments] { \u001b[32m\"0\"\u001b[39m: \u001b[33m1\u001b[39m, \u001b[32m\"1\"\u001b[39m: \u001b[33m2\u001b[39m, \u001b[32m\"2\"\u001b[39m: \u001b[33m3\u001b[39m }\n"
     ]
    },
    {
     "ename": "ReferenceError",
     "evalue": "arguments is not defined",
     "output_type": "error",
     "traceback": [
      "Stack trace:",
      "ReferenceError: arguments is not defined",
      "    at fnArgB (<anonymous>:5:15)",
      "    at <anonymous>:8:1"
     ]
    }
   ],
   "source": [
    "function fnArgA(a, b, c){\n",
    "    console.log(arguments);\n",
    "}\n",
    "\n",
    "const fnArgB = (a, b, c) => {\n",
    "    console.log(arguments);\n",
    "}\n",
    "\n",
    "fnArgA(1, 2, 3);\n",
    "fnArgB(1, 2, 3);"
   ]
  },
  {
   "cell_type": "markdown",
   "id": "426244ed-98ad-412f-83d9-8f5915b6bbbb",
   "metadata": {},
   "source": [
    "## Bind:\n",
    "Bind returns function binding this arg or passing args:\n",
    "```\n",
    "bind(thisArg)\n",
    "bind(thisArg, arg1)\n",
    "bind(thisArg, arg1, arg2)\n",
    "bind(thisArg, arg1, arg2, /* …, */ argN)\n",
    "```"
   ]
  },
  {
   "cell_type": "code",
   "execution_count": 9,
   "id": "0844190a-5592-41ac-94de-e88a2625f288",
   "metadata": {},
   "outputs": [
    {
     "name": "stdout",
     "output_type": "stream",
     "text": [
      "John\n",
      "Pop\n"
     ]
    }
   ],
   "source": [
    "class User {\n",
    "    constructor(name){\n",
    "        this.name = name\n",
    "    }\n",
    "\n",
    "    print(){\n",
    "        console.log(this.name);\n",
    "    }\n",
    "}\n",
    "\n",
    "const user1 = new User(\"John\");\n",
    "const user2 = new User(\"Pop\");\n",
    "user1.print();\n",
    "user2.print();"
   ]
  },
  {
   "cell_type": "code",
   "execution_count": 10,
   "id": "0b79c723-0cd1-4536-9ab2-c0b9ac038a50",
   "metadata": {},
   "outputs": [
    {
     "name": "stdout",
     "output_type": "stream",
     "text": [
      "Pop\n"
     ]
    }
   ],
   "source": [
    "const anotherPrint = user1.print.bind(user2);\n",
    "anotherPrint();"
   ]
  },
  {
   "cell_type": "code",
   "execution_count": 11,
   "id": "eac32c17-c4c4-4b55-bd1e-7d7b9b3665b0",
   "metadata": {},
   "outputs": [
    {
     "data": {
      "text/plain": [
       "\u001b[33m24\u001b[39m"
      ]
     },
     "execution_count": 11,
     "metadata": {},
     "output_type": "execute_result"
    }
   ],
   "source": [
    "function calculate(a, b, c){\n",
    "    return a * b * c;\n",
    "}\n",
    "\n",
    "calculate(2, 3, 4)"
   ]
  },
  {
   "cell_type": "code",
   "execution_count": 13,
   "id": "c04e59da-bab1-48c3-aed3-ea401165fbec",
   "metadata": {},
   "outputs": [
    {
     "data": {
      "text/plain": [
       "\u001b[33m60\u001b[39m"
      ]
     },
     "execution_count": 13,
     "metadata": {},
     "output_type": "execute_result"
    }
   ],
   "source": [
    "const calculate2 = calculate.bind(null, 10)\n",
    "calculate2(2, 3);"
   ]
  },
  {
   "cell_type": "markdown",
   "id": "af222b3c-c4dc-4d37-9cce-4f6630a4120e",
   "metadata": {},
   "source": [
    "## Call:\n",
    "The call() method of Function instances calls this function with a given this value and arguments provided individually.\n",
    "\n",
    "```\n",
    "call(thisArg)\n",
    "call(thisArg, arg1)\n",
    "call(thisArg, arg1, arg2)\n",
    "call(thisArg, arg1, arg2, /* …, */ argN)\n",
    "```"
   ]
  },
  {
   "cell_type": "code",
   "execution_count": 14,
   "id": "a7abffd2-e661-4631-86bf-c21b4b79a7cf",
   "metadata": {},
   "outputs": [
    {
     "name": "stdout",
     "output_type": "stream",
     "text": [
      "cheese\n"
     ]
    }
   ],
   "source": [
    "function Product(name, price) {\n",
    "  this.name = name;\n",
    "  this.price = price;\n",
    "}\n",
    "\n",
    "function Food(name, price) {\n",
    "  Product.call(this, name, price);\n",
    "  this.category = 'food';\n",
    "}\n",
    "\n",
    "console.log(new Food('cheese', 5).name);\n",
    "// Expected output: \"cheese\"\n"
   ]
  },
  {
   "cell_type": "markdown",
   "id": "9790ba33-cdee-4f62-9957-8458fd42883d",
   "metadata": {},
   "source": [
    "## Apply:\n",
    "The apply() method of Function instances calls this function with a given this value, and arguments provided as an array (or an array-like object).\n",
    "```\n",
    "apply(thisArg)\n",
    "apply(thisArg, argsArray)\n",
    "```"
   ]
  },
  {
   "cell_type": "code",
   "execution_count": 15,
   "id": "f99d0ef0-369d-4579-8527-e127df28b5dd",
   "metadata": {},
   "outputs": [
    {
     "name": "stdout",
     "output_type": "stream",
     "text": [
      "\u001b[33m7\u001b[39m\n",
      "\u001b[33m2\u001b[39m\n"
     ]
    }
   ],
   "source": [
    "const numbers = [5, 6, 2, 3, 7];\n",
    "\n",
    "const max = Math.max.apply(null, numbers);\n",
    "\n",
    "console.log(max);\n",
    "// Expected output: 7\n",
    "\n",
    "const min = Math.min.apply(null, numbers);\n",
    "\n",
    "console.log(min);\n",
    "// Expected output: 2"
   ]
  },
  {
   "cell_type": "markdown",
   "id": "5dcfd25a-7624-44ba-9f88-f2bfce533cdc",
   "metadata": {},
   "source": [
    "# JS Objects"
   ]
  },
  {
   "cell_type": "code",
   "execution_count": 116,
   "id": "d7074dfb-fa7b-4b03-bf07-4fa32390dfae",
   "metadata": {},
   "outputs": [
    {
     "name": "stdout",
     "output_type": "stream",
     "text": [
      "{ name: \u001b[32m\"John\"\u001b[39m, age: \u001b[33m30\u001b[39m }\n",
      "John\n",
      "\u001b[33m30\u001b[39m\n"
     ]
    }
   ],
   "source": [
    "const x = { \n",
    "    name: 'John',\n",
    "    age: 30\n",
    "}\n",
    "console.log(x);\n",
    "console.log(x.name);\n",
    "console.log(x['age'])"
   ]
  },
  {
   "cell_type": "markdown",
   "id": "a1a1fda4-75ff-4be5-ab7f-685d5ccb79dd",
   "metadata": {},
   "source": [
    "### Setters and Getters:"
   ]
  },
  {
   "cell_type": "code",
   "execution_count": 195,
   "id": "972851a3-408c-4818-93bb-e58f326be3df",
   "metadata": {},
   "outputs": [
    {
     "name": "stdout",
     "output_type": "stream",
     "text": [
      "{ _name: \u001b[32m\"John\"\u001b[39m, _age: \u001b[33m30\u001b[39m, name: \u001b[36m[Getter]\u001b[39m, age: \u001b[36m[Getter/Setter]\u001b[39m }\n",
      "My name is John\n",
      "\u001b[33m11\u001b[39m\n"
     ]
    }
   ],
   "source": [
    "const x = { \n",
    "    _name: 'John',\n",
    "    _age: 30,\n",
    "    get name(){\n",
    "        return `My name is ${this._name}`\n",
    "    },\n",
    "    set age(age){\n",
    "        this._age = age + 1;\n",
    "    },\n",
    "    get age(){\n",
    "        return this._age\n",
    "    },\n",
    "}\n",
    "console.log(x);\n",
    "console.log(x.name);\n",
    "x.age = 10\n",
    "console.log(x['age'])"
   ]
  },
  {
   "cell_type": "markdown",
   "id": "08b4cc76-80a6-4303-ac87-fea504aed752",
   "metadata": {},
   "source": [
    "### Variable Key:"
   ]
  },
  {
   "cell_type": "code",
   "execution_count": 117,
   "id": "dd64a997-99a7-45ee-9646-5306772e6365",
   "metadata": {},
   "outputs": [
    {
     "name": "stdout",
     "output_type": "stream",
     "text": [
      "{ name: \u001b[32m\"john\"\u001b[39m, age: \u001b[32m\"age\"\u001b[39m }\n"
     ]
    }
   ],
   "source": [
    "const NAME_KEY = 'name';\n",
    "const AGE_KEY = 'age';\n",
    "\n",
    "const objX = {\n",
    "    [NAME_KEY]: 'john',\n",
    "    [AGE_KEY]: 'age',\n",
    "}\n",
    "\n",
    "console.log(objX)"
   ]
  },
  {
   "cell_type": "markdown",
   "id": "47155efc-060a-4f99-8f24-c446915d40dc",
   "metadata": {},
   "source": [
    "## Arrays"
   ]
  },
  {
   "cell_type": "markdown",
   "id": "ee4ade94-1722-4034-8a1d-24dc91533528",
   "metadata": {},
   "source": [
    "Arrays are nothing but objects of arrayIndex as key"
   ]
  },
  {
   "cell_type": "code",
   "execution_count": 139,
   "id": "c3061325-cba1-4549-ac8a-0b6c7b1380c5",
   "metadata": {},
   "outputs": [
    {
     "name": "stdout",
     "output_type": "stream",
     "text": [
      "Tuni\n",
      "Montu\n"
     ]
    }
   ],
   "source": [
    "const arrA = ['Tuni', 'Montu', 'Mokbul', 'Abul', 'Gonu Mollah'];\n",
    "console.log(arrA['0'])\n",
    "console.log(arrA[1])"
   ]
  },
  {
   "cell_type": "code",
   "execution_count": 141,
   "id": "e8fb7c9e-f161-42b9-9749-8637acad1558",
   "metadata": {},
   "outputs": [
    {
     "ename": "Expected ',', got 'numeric literal (0.3, .3)' at file:///repl.tsx:1:17\n\n  console.log(arrA.3)\n                  ~~",
     "evalue": "Expected ',', got 'numeric literal (0.3, .3)' at file:///repl.tsx:1:17\n\n  console.log(arrA.3)\n                  ~~",
     "output_type": "error",
     "traceback": []
    }
   ],
   "source": [
    "console.log(arrA.3)"
   ]
  },
  {
   "cell_type": "code",
   "execution_count": 142,
   "id": "7038839a-3d28-4fcf-93d4-52b82aa8ddb9",
   "metadata": {},
   "outputs": [
    {
     "name": "stdout",
     "output_type": "stream",
     "text": [
      "Tuni\n",
      "Montu\n",
      "Mokbul\n",
      "Abul\n",
      "Gonu Mollah\n"
     ]
    }
   ],
   "source": [
    "for(const x of arrA){\n",
    "    console.log(x)\n",
    "}"
   ]
  },
  {
   "cell_type": "code",
   "execution_count": 143,
   "id": "414a777c-3f30-4b99-a517-7031da14c4a0",
   "metadata": {},
   "outputs": [
    {
     "name": "stdout",
     "output_type": "stream",
     "text": [
      "Tuni\n"
     ]
    }
   ],
   "source": [
    "const arrB = { '0': 'kopila', '1': 'Kuber Maji', '2': 'Hosen' }\n",
    "console.log(arrA[0])"
   ]
  },
  {
   "cell_type": "code",
   "execution_count": 144,
   "id": "a9dd7c8b-de91-414e-8f8c-371ba743df8a",
   "metadata": {},
   "outputs": [
    {
     "ename": "TypeError",
     "evalue": "arrB is not iterable",
     "output_type": "error",
     "traceback": [
      "Stack trace:",
      "TypeError: arrB is not iterable",
      "    at <anonymous>:1:38"
     ]
    }
   ],
   "source": [
    "for(const x of arrB){\n",
    "    console.log(x)\n",
    "}"
   ]
  },
  {
   "cell_type": "markdown",
   "id": "82a418f7-1568-4a32-a979-622e90d55ae8",
   "metadata": {},
   "source": [
    "### Array Tools:"
   ]
  },
  {
   "cell_type": "markdown",
   "id": "6efef936-6dc5-40f2-8ad1-d3cfbc2403c8",
   "metadata": {},
   "source": [
    "#### Map:"
   ]
  },
  {
   "cell_type": "code",
   "execution_count": null,
   "id": "fb781c97-cbf9-4a9f-adbd-024eadafe24d",
   "metadata": {},
   "outputs": [],
   "source": [
    "const array1 = [1, 4, 9, 16];\n",
    "\n",
    "// Pass a function to map\n",
    "const map1 = array1.map((x) => x * 2);\n",
    "\n",
    "console.log(map1);\n",
    "// Expected output: Array [2, 8, 18, 32]"
   ]
  },
  {
   "cell_type": "markdown",
   "id": "997c73d1-37af-409a-bccc-6196fbe612f2",
   "metadata": {},
   "source": [
    "#### Reduce:"
   ]
  },
  {
   "cell_type": "code",
   "execution_count": 1,
   "id": "64c191a3-f704-4cba-94f2-e0c385fb5bd9",
   "metadata": {},
   "outputs": [
    {
     "name": "stdout",
     "output_type": "stream",
     "text": [
      "\u001b[33m10\u001b[39m\n"
     ]
    }
   ],
   "source": [
    "const array1 = [1, 2, 3, 4];\n",
    "\n",
    "// 0 + 1 + 2 + 3 + 4\n",
    "const initialValue = 0;\n",
    "const sumWithInitial = array1.reduce(\n",
    "  (accumulator, currentValue) => accumulator + currentValue,\n",
    "  initialValue,\n",
    ");\n",
    "\n",
    "console.log(sumWithInitial);\n",
    "// Expected output: 10"
   ]
  },
  {
   "cell_type": "markdown",
   "id": "ca10d0a6-67d5-454a-bd70-fbfbb646249c",
   "metadata": {},
   "source": [
    "#### Every:"
   ]
  },
  {
   "cell_type": "code",
   "execution_count": 2,
   "id": "4eb578e4-1e4b-46ad-a60b-46a86317ce71",
   "metadata": {},
   "outputs": [
    {
     "name": "stdout",
     "output_type": "stream",
     "text": [
      "\u001b[33mtrue\u001b[39m\n"
     ]
    }
   ],
   "source": [
    "const isBelowThreshold = (currentValue) => currentValue < 40;\n",
    "\n",
    "const array1 = [1, 30, 39, 29, 10, 13];\n",
    "\n",
    "console.log(array1.every(isBelowThreshold));"
   ]
  },
  {
   "cell_type": "markdown",
   "id": "111b258e-e006-40e7-b704-7501fc48476c",
   "metadata": {},
   "source": [
    "#### Some:"
   ]
  },
  {
   "cell_type": "code",
   "execution_count": 3,
   "id": "f8ce6b73-2cbf-4234-8e41-c1171e770b41",
   "metadata": {},
   "outputs": [
    {
     "name": "stdout",
     "output_type": "stream",
     "text": [
      "\u001b[33mtrue\u001b[39m\n"
     ]
    }
   ],
   "source": [
    "const array = [1, 2, 3, 4, 5];\n",
    "\n",
    "// Checks whether an element is even\n",
    "const even = (element) => element % 2 === 0;\n",
    "\n",
    "console.log(array.some(even));"
   ]
  },
  {
   "cell_type": "markdown",
   "id": "fe763037-85d1-4537-8a1e-4c6cb76d9ee4",
   "metadata": {},
   "source": [
    "## Destructuring:"
   ]
  },
  {
   "cell_type": "code",
   "execution_count": 17,
   "id": "05841e19-020e-4993-b334-b87f37c52e69",
   "metadata": {},
   "outputs": [
    {
     "name": "stdout",
     "output_type": "stream",
     "text": [
      "{\n",
      "  data: { name: \u001b[32m\"John\"\u001b[39m, age: \u001b[33m38\u001b[39m },\n",
      "  source: \u001b[32m\"web\"\u001b[39m,\n",
      "  sourceInfo: \u001b[32m\"instagram\"\u001b[39m\n",
      "}\n"
     ]
    }
   ],
   "source": [
    "const objA = { \n",
    "    data: {\n",
    "        name: 'John',\n",
    "        age: 38\n",
    "    },\n",
    "    source: 'web' \n",
    "}\n",
    "\n",
    "const objB = {\n",
    "    sourceInfo: 'instagram'\n",
    "}\n",
    "\n",
    "const objC = {...objA, ...objB }\n",
    "console.log(objC)"
   ]
  },
  {
   "cell_type": "markdown",
   "id": "1c7c7d04-1e37-4b96-be04-e7c0577fed5c",
   "metadata": {},
   "source": [
    "### Destructure Create a shallow copy:"
   ]
  },
  {
   "cell_type": "code",
   "execution_count": 18,
   "id": "f9f2a986-5bd1-4bbe-9c3d-81d7f8bf3354",
   "metadata": {},
   "outputs": [],
   "source": [
    "const objCCopy = {...objC}"
   ]
  },
  {
   "cell_type": "code",
   "execution_count": 19,
   "id": "1bf43280-ee90-4e5f-8871-5c8fb6cafd45",
   "metadata": {},
   "outputs": [
    {
     "data": {
      "text/plain": [
       "\u001b[33mfalse\u001b[39m"
      ]
     },
     "execution_count": 19,
     "metadata": {},
     "output_type": "execute_result"
    }
   ],
   "source": [
    "objCCopy === objC"
   ]
  },
  {
   "cell_type": "code",
   "execution_count": 21,
   "id": "070cce84-3380-4a30-ade4-2e0bfa650044",
   "metadata": {},
   "outputs": [
    {
     "data": {
      "text/plain": [
       "\u001b[33mtrue\u001b[39m"
      ]
     },
     "execution_count": 21,
     "metadata": {},
     "output_type": "execute_result"
    }
   ],
   "source": [
    "objC['data'] === objCCopy['data']"
   ]
  },
  {
   "cell_type": "code",
   "execution_count": 22,
   "id": "9202715a-0d0c-431a-86bb-3d07fa7bb7cb",
   "metadata": {},
   "outputs": [
    {
     "data": {
      "text/plain": [
       "\u001b[33mtrue\u001b[39m"
      ]
     },
     "execution_count": 22,
     "metadata": {},
     "output_type": "execute_result"
    }
   ],
   "source": [
    "objCCopy['data'] === objA['data']"
   ]
  },
  {
   "cell_type": "markdown",
   "id": "c0640458-73ac-4155-94d0-9700296c3122",
   "metadata": {},
   "source": [
    "To deep copy look at [structured clone](https://developer.mozilla.org/en-US/docs/Web/API/Window/structuredClone)"
   ]
  },
  {
   "cell_type": "code",
   "execution_count": 112,
   "id": "da130635-4d1e-4621-8bdb-e614bf9bb572",
   "metadata": {},
   "outputs": [
    {
     "name": "stdout",
     "output_type": "stream",
     "text": [
      "\u001b[33m2\u001b[39m\n",
      "\u001b[33m1\u001b[39m\n"
     ]
    }
   ],
   "source": [
    "x.inc()\n",
    "x.inc()\n",
    "x.print()\n",
    "x.dec()\n",
    "x.print()"
   ]
  },
  {
   "cell_type": "markdown",
   "id": "b4b202ff-4470-485f-b09b-816d36a66a06",
   "metadata": {},
   "source": [
    "### Destructuring Array:"
   ]
  },
  {
   "cell_type": "code",
   "execution_count": 146,
   "id": "af4ed754-5f35-49fe-9870-e805c1784273",
   "metadata": {},
   "outputs": [
    {
     "name": "stdout",
     "output_type": "stream",
     "text": [
      "Tuni\n",
      "Montu\n",
      "Mokbul\n",
      "Abul\n",
      "Gonu Mollah\n",
      "kopila\n",
      "Kuber Maji\n",
      "Hosen\n"
     ]
    }
   ],
   "source": [
    "const charsA = ['Tuni', 'Montu', 'Mokbul', 'Abul', 'Gonu Mollah'];\n",
    "const charsB = ['kopila', 'Kuber Maji', 'Hosen']\n",
    "const charsC = [...charsA, ...charsB]\n",
    "\n",
    "for (const x of charsC){\n",
    "    console.log(x);\n",
    "}"
   ]
  },
  {
   "cell_type": "markdown",
   "id": "b5cee0ef-0ade-40a7-a8ec-258b840809dd",
   "metadata": {},
   "source": [
    "## Objects Methods:"
   ]
  },
  {
   "cell_type": "markdown",
   "id": "16e50b98-afd3-4a65-a37f-5d6a7dddbd3a",
   "metadata": {},
   "source": [
    "Objects are powefull in Js. It is possible to create object with method and state without any template like `class`"
   ]
  },
  {
   "cell_type": "code",
   "execution_count": 111,
   "id": "e74bdc23-cbf0-4172-ba74-60e307d4741d",
   "metadata": {},
   "outputs": [],
   "source": [
    "const x = {\n",
    "    count: 0,\n",
    "    inc(){\n",
    "        this.count ++;\n",
    "    },\n",
    "    dec(){\n",
    "        this.count --;\n",
    "    },\n",
    "    print(){\n",
    "        console.log(this.count);\n",
    "    },\n",
    "}"
   ]
  },
  {
   "cell_type": "markdown",
   "id": "e6b9bccc-81eb-42e1-90cc-6f7582471d08",
   "metadata": {},
   "source": [
    "we can have function to return objects as methods. No need of class."
   ]
  },
  {
   "cell_type": "code",
   "execution_count": 151,
   "id": "3bb9c2ba-e3e7-4f44-9eec-108bf7d1e7a2",
   "metadata": {},
   "outputs": [],
   "source": [
    "function User(name, age){\n",
    "    return {\n",
    "        name,\n",
    "        age,\n",
    "        setName(name){\n",
    "            this.name = name;\n",
    "        },\n",
    "        getName(){\n",
    "            return this.name;\n",
    "        },\n",
    "    }\n",
    "}"
   ]
  },
  {
   "cell_type": "code",
   "execution_count": 156,
   "id": "5aa224a2-0a69-4213-9be3-f834153e873f",
   "metadata": {},
   "outputs": [
    {
     "name": "stdout",
     "output_type": "stream",
     "text": [
      "{\n",
      "  name: \u001b[32m\"Komola harish\"\u001b[39m,\n",
      "  age: \u001b[33m50\u001b[39m,\n",
      "  setName: \u001b[36m[Function: setName]\u001b[39m,\n",
      "  getName: \u001b[36m[Function: getName]\u001b[39m\n",
      "}\n",
      "Komola harish\n",
      "Donuld Trump\n"
     ]
    }
   ],
   "source": [
    "const user = User(\"Komola harish\", 50);\n",
    "console.log(user)\n",
    "console.log(user.getName());\n",
    "user.setName(\"Donuld Trump\");\n",
    "console.log(user.getName());"
   ]
  },
  {
   "cell_type": "code",
   "execution_count": null,
   "id": "7b2c661d-573a-4299-94c7-ec332bfac1cb",
   "metadata": {},
   "outputs": [],
   "source": [
    "function User(name, age){\n",
    "    this.name = name;\n",
    "    this.age = age;\n",
    "    this.setName = function(name){\n",
    "        this.name = name;\n",
    "    }\n",
    "    this.getName = function(){\n",
    "        return this.name;\n",
    "    }\n",
    "}"
   ]
  },
  {
   "cell_type": "code",
   "execution_count": 160,
   "id": "0e2d1991-f5f7-40df-951c-2d1a14f147bc",
   "metadata": {},
   "outputs": [
    {
     "name": "stdout",
     "output_type": "stream",
     "text": [
      "{\n",
      "  name: \u001b[32m\"Komola Haris\"\u001b[39m,\n",
      "  age: \u001b[33m50\u001b[39m,\n",
      "  setName: \u001b[36m[Function: setName]\u001b[39m,\n",
      "  getName: \u001b[36m[Function: getName]\u001b[39m\n",
      "}\n",
      "Komola Haris\n",
      "Donald Trump\n"
     ]
    }
   ],
   "source": [
    "const user2 = new User(\"Komola Haris\", 50)\n",
    "console.log(user2)\n",
    "console.log(user2.getName());\n",
    "user2.setName(\"Donald Trump\");\n",
    "console.log(user2[\"getName\"]());"
   ]
  },
  {
   "cell_type": "markdown",
   "id": "8ad235d2-347e-4234-8c93-11cba8277c14",
   "metadata": {},
   "source": [
    "## Prototype chaining"
   ]
  },
  {
   "cell_type": "code",
   "execution_count": 205,
   "id": "75b5d1a7-614a-43a9-9cf3-24874b76bb03",
   "metadata": {},
   "outputs": [
    {
     "data": {
      "text/plain": [
       "\u001b[36m[Function: getName]\u001b[39m"
      ]
     },
     "execution_count": 205,
     "metadata": {},
     "output_type": "execute_result"
    }
   ],
   "source": [
    "function User(name, age){\n",
    "    this.name = name;\n",
    "    this.age = age;\n",
    "}\n",
    "\n",
    "function setName(name){\n",
    "    this.name = name;\n",
    "}\n",
    "\n",
    "function getName(){\n",
    "    return this.name;\n",
    "}\n",
    "\n",
    "User.prototype.setName = setName\n",
    "\n",
    "User.prototype.getName = getName"
   ]
  },
  {
   "cell_type": "code",
   "execution_count": 206,
   "id": "fce17419-4536-44e8-83ac-15b126a44a93",
   "metadata": {},
   "outputs": [
    {
     "name": "stdout",
     "output_type": "stream",
     "text": [
      "User { name: \u001b[32m\"Komola Haris\"\u001b[39m, age: \u001b[33m50\u001b[39m }\n",
      "Komola Haris\n",
      "Donald Trump\n"
     ]
    }
   ],
   "source": [
    "const user3 = new User(\"Komola Haris\", 50)\n",
    "console.log(user3)\n",
    "console.log(user3.getName());\n",
    "user3.setName(\"Donald Trump\");\n",
    "console.log(user3[\"getName\"]());"
   ]
  },
  {
   "cell_type": "code",
   "execution_count": 207,
   "id": "6c2d8cff-b359-428e-9729-bd8215de51dc",
   "metadata": {},
   "outputs": [
    {
     "data": {
      "text/plain": [
       "\u001b[36m[Function: getName]\u001b[39m"
      ]
     },
     "execution_count": 207,
     "metadata": {},
     "output_type": "execute_result"
    }
   ],
   "source": [
    "function Employee(name , age, designation){\n",
    "    this.name = name;\n",
    "    this.age = age;\n",
    "    this.designation = designation;\n",
    "}\n",
    "\n",
    "Employee.prototype.setName = setName;\n",
    "Employee.prototype.getName = getName;"
   ]
  },
  {
   "cell_type": "code",
   "execution_count": 208,
   "id": "c3e04510-6807-4765-8e80-2d82877c0d16",
   "metadata": {},
   "outputs": [
    {
     "name": "stdout",
     "output_type": "stream",
     "text": [
      "John\n",
      "Jhon Doe\n"
     ]
    }
   ],
   "source": [
    "const employee = new Employee(\"John\", 30, \"Engineer\");\n",
    "console.log(employee.getName());\n",
    "employee.setName(\"Jhon Doe\");\n",
    "console.log(employee.getName());"
   ]
  },
  {
   "cell_type": "markdown",
   "id": "63ee4586-b48f-48ee-8330-23ef67d84b99",
   "metadata": {},
   "source": [
    "### Inheritence with prototype Chaining:"
   ]
  },
  {
   "cell_type": "code",
   "execution_count": 210,
   "id": "72fbb50c-455d-47ed-be62-2853c621f078",
   "metadata": {},
   "outputs": [
    {
     "name": "stdout",
     "output_type": "stream",
     "text": [
      "User { name: \u001b[90mundefined\u001b[39m, age: \u001b[90mundefined\u001b[39m }\n"
     ]
    }
   ],
   "source": [
    "function Employee(name , age, designation){\n",
    "    this.name = name;\n",
    "    this.age = age;\n",
    "    this.designation = designation;\n",
    "}\n",
    "\n",
    "Employee.prototype = new User()\n",
    "console.log(Employee.prototype)"
   ]
  },
  {
   "cell_type": "code",
   "execution_count": 204,
   "id": "261529a8-3f27-4fa5-940d-18bf4d41d442",
   "metadata": {},
   "outputs": [
    {
     "name": "stdout",
     "output_type": "stream",
     "text": [
      "John\n",
      "Jhon Doe\n"
     ]
    }
   ],
   "source": [
    "const employee = new Employee(\"John\", 30, \"Engineer\");\n",
    "console.log(employee.getName());\n",
    "employee.setName(\"Jhon Doe\");\n",
    "console.log(employee.getName());"
   ]
  },
  {
   "cell_type": "markdown",
   "id": "ec33087b-c890-4b0c-90ee-db1287a75de7",
   "metadata": {},
   "source": [
    "### Mixin pattern:"
   ]
  },
  {
   "cell_type": "code",
   "execution_count": 181,
   "id": "b97500d0-d9e3-47cc-8b0c-597983abdad3",
   "metadata": {},
   "outputs": [
    {
     "data": {
      "text/plain": [
       "UserMixin {\n",
       "  setName: \u001b[36m[Function (anonymous)]\u001b[39m,\n",
       "  getName: \u001b[36m[Function (anonymous)]\u001b[39m\n",
       "}"
      ]
     },
     "execution_count": 181,
     "metadata": {},
     "output_type": "execute_result"
    }
   ],
   "source": [
    "function UserMixin(){\n",
    "    this.setName = function (name){\n",
    "        this.name = name;\n",
    "    }\n",
    "    this.getName = function (){\n",
    "        return this.name;\n",
    "    }\n",
    "}\n",
    "\n",
    "function User(name, age){\n",
    "    this.name = name;\n",
    "    this.age = age;\n",
    "}\n",
    "\n",
    "function Employee(name , age, designation){\n",
    "    this.name = name;\n",
    "    this.age = age;\n",
    "    this.designation = designation;\n",
    "}\n",
    "\n",
    "function Manager(name , age){\n",
    "    this.name = name;\n",
    "    this.age = age;\n",
    "\n",
    "    this.setName = function (name){\n",
    "        this.name = `manager: ${name} `\n",
    "    }\n",
    "}\n",
    "\n",
    "User.prototype = new UserMixin();\n",
    "Employee.prototype = new UserMixin();\n",
    "Manager.prototype = new UserMixin();"
   ]
  },
  {
   "cell_type": "code",
   "execution_count": 182,
   "id": "fd9d8649-c153-4758-bcf4-48f635d24421",
   "metadata": {},
   "outputs": [
    {
     "name": "stdout",
     "output_type": "stream",
     "text": [
      "John\n",
      "Jhon Doe\n",
      "UserMixin { name: \u001b[32m\"Komola Haris\"\u001b[39m, age: \u001b[33m50\u001b[39m }\n",
      "Komola Haris\n",
      "Donald Trump\n"
     ]
    }
   ],
   "source": [
    "const employee = new Employee(\"John\", 30, \"Engineer\");\n",
    "console.log(employee.getName());\n",
    "employee.setName(\"Jhon Doe\");\n",
    "console.log(employee.getName());\n",
    "const user4 = new User(\"Komola Haris\", 50)\n",
    "console.log(user4)\n",
    "console.log(user4.getName());\n",
    "user4.setName(\"Donald Trump\");\n",
    "console.log(user4[\"getName\"]());"
   ]
  },
  {
   "cell_type": "code",
   "execution_count": 183,
   "id": "dcca64cb-3ece-4c17-93df-4ef2c731f726",
   "metadata": {},
   "outputs": [
    {
     "name": "stdout",
     "output_type": "stream",
     "text": [
      "manager: Rony \n"
     ]
    }
   ],
   "source": [
    "const manager = new Manager(\"Ron\", 28)\n",
    "manager.setName(\"Rony\");\n",
    "console.log(manager.getName());"
   ]
  },
  {
   "cell_type": "markdown",
   "id": "114a3b11-d441-4ccd-b0d8-7aea7369507a",
   "metadata": {},
   "source": [
    "# Classes"
   ]
  },
  {
   "cell_type": "markdown",
   "id": "4ae74a8f-67a9-4ae8-8ee5-14f75cc64167",
   "metadata": {},
   "source": [
    "### Classess are syntactical sugar or prototype"
   ]
  },
  {
   "cell_type": "code",
   "execution_count": 226,
   "id": "45834d5b-9e74-4767-8889-e35a9171c023",
   "metadata": {},
   "outputs": [
    {
     "name": "stdout",
     "output_type": "stream",
     "text": [
      "\u001b[33m100\u001b[39m\n"
     ]
    }
   ],
   "source": [
    "class Rectangle {\n",
    "  constructor(height, width) {\n",
    "    this.height = height;\n",
    "    this.width = width;\n",
    "  }\n",
    "  // Getter\n",
    "  get area() {\n",
    "    return this.calcArea();\n",
    "  }\n",
    "  // Method\n",
    "  calcArea() {\n",
    "    return this.height * this.width;\n",
    "  }\n",
    "}\n",
    "\n",
    "const square = new Rectangle(10, 10);\n",
    "\n",
    "console.log(square.area); // 100"
   ]
  },
  {
   "cell_type": "code",
   "execution_count": 227,
   "id": "b3249aa4-aada-425a-aee4-edd524158c61",
   "metadata": {},
   "outputs": [],
   "source": [
    "class Square extends Rectangle{\n",
    "    constructor(height, width){\n",
    "        super(height, width);\n",
    "    }\n",
    "}"
   ]
  },
  {
   "cell_type": "code",
   "execution_count": 229,
   "id": "7c6f36d2-07d7-4cfb-b7eb-252e0db8acba",
   "metadata": {},
   "outputs": [
    {
     "name": "stdout",
     "output_type": "stream",
     "text": [
      "Rectangle {}\n"
     ]
    }
   ],
   "source": [
    "console.log(Square.prototype);"
   ]
  },
  {
   "cell_type": "markdown",
   "id": "5419b21f-9cfb-483d-afca-c3954720bdc9",
   "metadata": {},
   "source": [
    "### Static methods and properties:"
   ]
  },
  {
   "cell_type": "code",
   "execution_count": 213,
   "id": "3fbc26ae-e9c8-4e16-94f5-1acdf4846cfa",
   "metadata": {},
   "outputs": [
    {
     "name": "stdout",
     "output_type": "stream",
     "text": [
      "Class static initialization block called\n",
      "someValue\n",
      "static method has been called.\n"
     ]
    }
   ],
   "source": [
    "class ClassWithStaticMethod {\n",
    "  static staticProperty = 'someValue';\n",
    "  static staticMethod() {\n",
    "    return 'static method has been called.';\n",
    "  }\n",
    "  static {\n",
    "    console.log('Class static initialization block called');\n",
    "  }\n",
    "}\n",
    "\n",
    "console.log(ClassWithStaticMethod.staticProperty);\n",
    "// Expected output: \"someValue\"\n",
    "console.log(ClassWithStaticMethod.staticMethod());\n",
    "// Expected output: \"static method has been called.\""
   ]
  },
  {
   "cell_type": "markdown",
   "id": "61a2c753-3a6b-4dc9-bfe6-27f6cfa07bfc",
   "metadata": {},
   "source": [
    "### Public and Private:"
   ]
  },
  {
   "cell_type": "markdown",
   "id": "8f17e425-32c7-457a-b3b3-2e475bbf24ca",
   "metadata": {},
   "source": [
    "Anything that start with `#` is private in JS class"
   ]
  },
  {
   "cell_type": "code",
   "execution_count": 221,
   "id": "6ee7d7bd-769d-460e-aa3e-1d85a00225bc",
   "metadata": {},
   "outputs": [
    {
     "data": {
      "text/plain": [
       "Subclass {}"
      ]
     },
     "execution_count": 221,
     "metadata": {},
     "output_type": "execute_result"
    }
   ],
   "source": [
    "class ClassWithPrivateField {\n",
    "  #privateField;\n",
    "\n",
    "  constructor() {\n",
    "    this.#privateField = 42;\n",
    "  }\n",
    "}\n",
    "\n",
    "class Subclass extends ClassWithPrivateField {\n",
    "  #subPrivateField;\n",
    "\n",
    "  constructor() {\n",
    "    super();\n",
    "    this.#subPrivateField = 23;\n",
    "  }\n",
    "\n",
    "  print(){\n",
    "      //console.log(this.#privateField);\n",
    "      console.log(this.#subPrivateField);\n",
    "  }\n",
    "}\n",
    "\n",
    "new Subclass(); // In some dev tools, it shows Subclass {#privateField: 42, #subPrivateField: 23}"
   ]
  },
  {
   "cell_type": "code",
   "execution_count": 222,
   "id": "75f1c1c9-b7b2-4ae4-9c13-bca83c3ebf7e",
   "metadata": {},
   "outputs": [
    {
     "ename": "TypeError",
     "evalue": "sub[#privateField] is not a function",
     "output_type": "error",
     "traceback": [
      "Stack trace:",
      "TypeError: sub[#privateField] is not a function",
      "    at <anonymous>:2:18"
     ]
    }
   ],
   "source": [
    "const sub = new Subclass();\n",
    "sub.#privateField()"
   ]
  },
  {
   "cell_type": "code",
   "execution_count": 223,
   "id": "fdd8702e-e4ae-4ea0-8c69-e976bc462e4b",
   "metadata": {},
   "outputs": [
    {
     "name": "stdout",
     "output_type": "stream",
     "text": [
      "\u001b[33m23\u001b[39m\n"
     ]
    }
   ],
   "source": [
    "sub.print()"
   ]
  },
  {
   "cell_type": "markdown",
   "id": "f581a1dc-7b18-432c-b380-68f15fbf5b1d",
   "metadata": {},
   "source": [
    "# Promises"
   ]
  },
  {
   "cell_type": "markdown",
   "id": "979ac645-4652-4c2f-ba8f-01fb560b7e13",
   "metadata": {},
   "source": [
    "## Asynchronus Nature Of JS:"
   ]
  },
  {
   "cell_type": "code",
   "execution_count": 25,
   "id": "cf2409a0-14e8-4b74-b9e0-fc58b270da24",
   "metadata": {},
   "outputs": [
    {
     "name": "stdout",
     "output_type": "stream",
     "text": [
      "doing something\n",
      "doing nothing\n"
     ]
    },
    {
     "data": {
      "text/plain": [
       "Promise { \u001b[90mundefined\u001b[39m }"
      ]
     },
     "execution_count": 25,
     "metadata": {},
     "output_type": "execute_result"
    },
    {
     "name": "stdout",
     "output_type": "stream",
     "text": [
      "Done fetching\n"
     ]
    }
   ],
   "source": [
    "async function doSomethingA(){\n",
    "    console.log('doing something');\n",
    "    await fetch('https://google.com');\n",
    "    console.log('Done fetching');\n",
    "}\n",
    "\n",
    "async function doNothingB(){\n",
    "    console.log('doing nothing');\n",
    "}\n",
    "\n",
    "doSomethingA();\n",
    "doNothingB();"
   ]
  },
  {
   "cell_type": "code",
   "execution_count": 28,
   "id": "d930d7c2-5dc3-4d7a-a8f2-6cd49eaa0639",
   "metadata": {},
   "outputs": [
    {
     "name": "stdout",
     "output_type": "stream",
     "text": [
      "I am fine, How are you?\n",
      "Hey, How are you?\n"
     ]
    }
   ],
   "source": [
    "function justCallAfterSomeTime(){\n",
    "    setTimeout(()=> console.log('Hey, How are you?'), 100);\n",
    "}\n",
    "\n",
    "function responseToTheCall(){\n",
    "    setTimeout(()=> console.log('I am fine, How are you?'), 10);\n",
    "}\n",
    "\n",
    "justCallAfterSomeTime();\n",
    "responseToTheCall();"
   ]
  },
  {
   "cell_type": "markdown",
   "id": "b5ddcc4c-bd6b-4ab4-be76-65795d0e3424",
   "metadata": {},
   "source": [
    "## Basic Example of data fetching:"
   ]
  },
  {
   "cell_type": "code",
   "execution_count": 1,
   "id": "29797b63-3eb4-41b0-8cbb-dd4ed8055245",
   "metadata": {},
   "outputs": [
    {
     "name": "stdout",
     "output_type": "stream",
     "text": [
      "Promise { \u001b[36m<pending>\u001b[39m }\n",
      "{ status: \u001b[33m200\u001b[39m, message: \u001b[32m\"OK\"\u001b[39m }\n"
     ]
    }
   ],
   "source": [
    "async function getMeData() {\n",
    "  const response = await fetch(\"https://dummyjson.com/http/200\");\n",
    "  const json = await response.json();\n",
    "  return json;\n",
    "}\n",
    "\n",
    "async function printData() {\n",
    "  const data = await getMeData();\n",
    "  console.log(data);\n",
    "}\n",
    "\n",
    "console.log(printData());\n"
   ]
  },
  {
   "cell_type": "markdown",
   "id": "06b63055-a5eb-40bd-82ba-936eed2cafed",
   "metadata": {},
   "source": [
    "## Then Chaining"
   ]
  },
  {
   "cell_type": "code",
   "execution_count": null,
   "id": "e93262ce-7311-42e6-9854-cac352f0ce7f",
   "metadata": {},
   "outputs": [],
   "source": [
    "getMeData()\n",
    "  .then((data) => console.log(data))\n",
    "  .catch((err) => console.error(err))\n",
    "  .finally(() => console.log(\" I am going to execute whatever happens\"));\n",
    "\n"
   ]
  },
  {
   "cell_type": "markdown",
   "id": "30ed5ca3-e96c-416e-9add-6fcc3094fd60",
   "metadata": {},
   "source": [
    "## Promise Variable:"
   ]
  },
  {
   "cell_type": "code",
   "execution_count": 2,
   "id": "2f359569-9200-436f-b9a7-130a0beb2ca7",
   "metadata": {},
   "outputs": [
    {
     "name": "stdout",
     "output_type": "stream",
     "text": [
      "promisedA: Promise { \u001b[32m\"a\"\u001b[39m }\n",
      "promisedB: Promise { \u001b[36m<rejected>\u001b[39m \u001b[32m\"b\"\u001b[39m }\n",
      "resolvedA: a\n",
      "I a Rejected Promise b\n"
     ]
    },
    {
     "data": {
      "text/plain": [
       "Promise { \u001b[90mundefined\u001b[39m }"
      ]
     },
     "execution_count": 2,
     "metadata": {},
     "output_type": "execute_result"
    }
   ],
   "source": [
    "async function testPromiseVariable() {\n",
    "  const promisedA = Promise.resolve(\"a\");\n",
    "  const promisedB = Promise.reject(\"b\");\n",
    "\n",
    "  console.log(\"promisedA:\", promisedA);\n",
    "  console.log(\"promisedB:\", promisedB);\n",
    "\n",
    "  console.log(\"resolvedA:\", await promisedA);\n",
    "  try {\n",
    "    console.log(\"rejectedB:\", await promisedB);\n",
    "  } catch (e) {\n",
    "    console.log(\"I a Rejected Promise\", e);\n",
    "  }\n",
    "}\n",
    "\n",
    "testPromiseVariable();"
   ]
  },
  {
   "cell_type": "markdown",
   "id": "4e79e11f-271c-4b7a-bee2-f830baf83488",
   "metadata": {},
   "source": [
    "We can await on promise that will bring it on resolved state"
   ]
  },
  {
   "cell_type": "code",
   "execution_count": 3,
   "id": "e0432b36-3656-411c-8e82-d731055135bb",
   "metadata": {},
   "outputs": [
    {
     "name": "stdout",
     "output_type": "stream",
     "text": [
      "promisedA: Promise { \u001b[32m\"a\"\u001b[39m }\n",
      "promisedB: Promise { \u001b[36m<rejected>\u001b[39m \u001b[32m\"b\"\u001b[39m }\n",
      "resolvedA: Promise { \u001b[32m\"a\"\u001b[39m }\n",
      "I a Rejected Promise b\n"
     ]
    },
    {
     "data": {
      "text/plain": [
       "Promise { \u001b[90mundefined\u001b[39m }"
      ]
     },
     "execution_count": 3,
     "metadata": {},
     "output_type": "execute_result"
    }
   ],
   "source": [
    "async function testPromiseVariable() {\n",
    "  const promisedA = Promise.resolve(\"a\");\n",
    "  const promisedB = Promise.reject(\"b\");\n",
    "\n",
    "  console.log(\"promisedA:\", promisedA);\n",
    "  console.log(\"promisedB:\", promisedB);\n",
    "\n",
    "  await promisedA;\n",
    "  console.log(\"resolvedA:\", promisedA);\n",
    "  try {\n",
    "    await promisedB;\n",
    "    console.log(\"rejectedB:\", promisedB);\n",
    "  } catch (e) {\n",
    "    console.log(\"I a Rejected Promise\", e);\n",
    "  }\n",
    "}\n",
    "testPromiseVariable();"
   ]
  },
  {
   "cell_type": "markdown",
   "id": "5cbde94e-d266-4682-b476-9aa0ba198ed0",
   "metadata": {},
   "source": [
    "## Let's Implement Sleep:"
   ]
  },
  {
   "cell_type": "code",
   "execution_count": 4,
   "id": "dbefad48-0800-4726-8a61-5920ca13f75b",
   "metadata": {},
   "outputs": [],
   "source": [
    "// Sleep for 10s\n",
    "async function sleep(x) {\n",
    "  return new Promise((resolve, reject) => {\n",
    "    setTimeout(() => {\n",
    "      if (Math.random() > 0.5) {\n",
    "        return reject(\"Mone chaise tai reject!\");\n",
    "      }\n",
    "      return resolve(\"Sojon Haranor bedona\");\n",
    "    }, x);\n",
    "  });\n",
    "}\n"
   ]
  },
  {
   "cell_type": "code",
   "execution_count": 5,
   "id": "105ce525-8c2d-4d3d-8d9c-f3e0129ec061",
   "metadata": {},
   "outputs": [],
   "source": [
    "async function doSomething() {\n",
    "  console.log(\"I will do it tomorrow\");\n",
    "  sleep(10);\n",
    "  console.log(\"Nah, I will do it tomorrow\");\n",
    "  // doSomething();\n",
    "}"
   ]
  },
  {
   "cell_type": "code",
   "execution_count": 6,
   "id": "b748a27a-c455-4aa0-85cb-3cd3f883302f",
   "metadata": {},
   "outputs": [
    {
     "name": "stdout",
     "output_type": "stream",
     "text": [
      "I will do it tomorrow\n",
      "Nah, I will do it tomorrow\n"
     ]
    },
    {
     "data": {
      "text/plain": [
       "Promise { \u001b[90mundefined\u001b[39m }"
      ]
     },
     "execution_count": 6,
     "metadata": {},
     "output_type": "execute_result"
    }
   ],
   "source": [
    "doSomething();"
   ]
  },
  {
   "cell_type": "markdown",
   "id": "95df83e3-32a5-4d07-bd18-6f20831b06bc",
   "metadata": {},
   "source": [
    "## Callback Pattern:"
   ]
  },
  {
   "cell_type": "markdown",
   "id": "53968f16-36b4-44c3-8009-913bfdc0fa02",
   "metadata": {},
   "source": [
    "First parameter of the callback is err and second parameter is the data. The callback function will be passed as last parameter of any function."
   ]
  },
  {
   "cell_type": "code",
   "execution_count": 23,
   "id": "c44a994d-6f5b-448a-8810-5fa35f878f74",
   "metadata": {},
   "outputs": [],
   "source": [
    "function fetchData(callback) {\n",
    "  //dummy data fetched from network\n",
    "  const dummyData = { test: \"test\" };\n",
    "  setTimeout(()=>callback(null, dummyData), 100);\n",
    "}"
   ]
  },
  {
   "cell_type": "code",
   "execution_count": 24,
   "id": "89715bb1-e232-4e08-a41a-a3fd50b54fe8",
   "metadata": {},
   "outputs": [],
   "source": [
    "//Dummy data processing function\n",
    "function processData(item, callback) {\n",
    "  return setTimeout(()=>callback(null, {...item, processed: true }), 100);\n",
    "}"
   ]
  },
  {
   "cell_type": "code",
   "execution_count": 25,
   "id": "d277abd8-39e4-4d66-8e0f-fbc55e7fa71a",
   "metadata": {},
   "outputs": [],
   "source": [
    "// Dummy data posting function\n",
    "function postData(item, callback) {\n",
    "  return setTimeout(()=>callback(null, {...item, posted: true }), 100);\n",
    "}"
   ]
  },
  {
   "cell_type": "code",
   "execution_count": 26,
   "id": "be341e53-30a3-41ca-ad94-097657f46038",
   "metadata": {},
   "outputs": [
    {
     "name": "stdout",
     "output_type": "stream",
     "text": [
      "{ test: \u001b[32m\"test\"\u001b[39m, processed: \u001b[33mtrue\u001b[39m, posted: \u001b[33mtrue\u001b[39m }\n"
     ]
    }
   ],
   "source": [
    "fetchData((err, data) => {\n",
    "  if (err != null) {\n",
    "    return console.log(err);\n",
    "  }\n",
    "\n",
    "  processData(data, (err, data) => {\n",
    "    if (err != null) {\n",
    "      return console.log(err);\n",
    "    }\n",
    "    postData(data, (err, res) => {\n",
    "      if (err != null) {\n",
    "        return console.log(err);\n",
    "      }\n",
    "      console.log(res);\n",
    "    });\n",
    "  });\n",
    "});"
   ]
  },
  {
   "cell_type": "markdown",
   "id": "da7628e1-6ec6-4025-80c5-363d5ad9a5ed",
   "metadata": {},
   "source": [
    "### Promisify"
   ]
  },
  {
   "cell_type": "code",
   "execution_count": 27,
   "id": "bea6232e-06ab-45a5-910b-acbf07769af4",
   "metadata": {},
   "outputs": [],
   "source": [
    "function customPromisify(func) {\n",
    "  return function (...args) {\n",
    "    return new Promise((resolve, reject) => {\n",
    "      func(...args, (err, result) => {\n",
    "        if (err) {\n",
    "          reject(err);\n",
    "        } else {\n",
    "          resolve(result);\n",
    "        }\n",
    "      });\n",
    "    });\n",
    "  };\n",
    "}"
   ]
  },
  {
   "cell_type": "code",
   "execution_count": 28,
   "id": "f888a9b2-1804-4774-8b2d-041af2f2fe40",
   "metadata": {},
   "outputs": [],
   "source": [
    "const asyncFetchData = customPromisify(fetchData);\n",
    "const asyncProcessData = customPromisify(processData);\n",
    "const asyncPostData = customPromisify(postData);"
   ]
  },
  {
   "cell_type": "code",
   "execution_count": 29,
   "id": "c4f40324-e9f0-434e-87f8-d0134866fe45",
   "metadata": {},
   "outputs": [],
   "source": [
    "async function workOnData(){\n",
    "    try{\n",
    "        const data = await asyncFetchData();\n",
    "        const processedData = await asyncProcessData(data);\n",
    "        const res = await asyncPostData(processedData);\n",
    "        console.log(res);\n",
    "    } catch(e){\n",
    "        console.log(e)\n",
    "    }\n",
    "}"
   ]
  },
  {
   "cell_type": "code",
   "execution_count": 30,
   "id": "a6b666c9-cc6a-4c47-854c-5bf086fd52bf",
   "metadata": {},
   "outputs": [
    {
     "name": "stdout",
     "output_type": "stream",
     "text": [
      "{ test: \u001b[32m\"test\"\u001b[39m, processed: \u001b[33mtrue\u001b[39m, posted: \u001b[33mtrue\u001b[39m }\n"
     ]
    }
   ],
   "source": [
    "await workOnData()"
   ]
  },
  {
   "cell_type": "markdown",
   "id": "2271c2ae-b609-4b9a-896c-974f6e99b2ae",
   "metadata": {},
   "source": [
    "### Binding this after promisification"
   ]
  },
  {
   "cell_type": "code",
   "execution_count": 2,
   "id": "51590e75-de16-4bb3-80dd-a32361740f1b",
   "metadata": {},
   "outputs": [],
   "source": [
    "class TestPrinter {\n",
    "  constructor() {\n",
    "    this.data = \"Some Data\";\n",
    "  }\n",
    "    \n",
    "  printData(callback) {\n",
    "    console.log(\"I am executed\");\n",
    "    setTimeout(()=>callback(null, this.data), 1000);\n",
    "  }\n",
    "}"
   ]
  },
  {
   "cell_type": "code",
   "execution_count": 3,
   "id": "fadd10fe-9d1c-4dc6-a40a-0b8f0eda1ce6",
   "metadata": {},
   "outputs": [],
   "source": [
    "const testP = new TestPrinter();"
   ]
  },
  {
   "cell_type": "code",
   "execution_count": 4,
   "id": "42c557f8-233d-4553-a756-ac13f06608b6",
   "metadata": {},
   "outputs": [
    {
     "name": "stdout",
     "output_type": "stream",
     "text": [
      "I am executed\n"
     ]
    }
   ],
   "source": [
    "testP.printData((err, data)=> console.log(data))"
   ]
  },
  {
   "cell_type": "code",
   "execution_count": 5,
   "id": "e394da72-01c8-46df-8ed5-834aaefae37b",
   "metadata": {},
   "outputs": [
    {
     "name": "stdout",
     "output_type": "stream",
     "text": [
      "I am executed\n"
     ]
    },
    {
     "data": {
      "text/plain": [
       "Promise { \u001b[36m<pending>\u001b[39m }"
      ]
     },
     "execution_count": 5,
     "metadata": {},
     "output_type": "execute_result"
    }
   ],
   "source": [
    "const asyncPrintData = customPromisify(testP.printData);\n",
    "asyncPrintData()\n",
    "  .then((data) => console.log(data))\n",
    "  .catch((err) => console.log(err));"
   ]
  },
  {
   "cell_type": "code",
   "execution_count": 6,
   "id": "38c04922-3dd9-4e98-b2cd-1b3a7eab64c2",
   "metadata": {},
   "outputs": [
    {
     "name": "stdout",
     "output_type": "stream",
     "text": [
      "Some Data\n"
     ]
    }
   ],
   "source": [
    "function customPromisify(func) {\n",
    "  return function (...args) {\n",
    "    return new Promise((resolve, reject) => {\n",
    "      function callbackFunction(err, result){\n",
    "        if (err) {\n",
    "          reject(err);\n",
    "        } else {\n",
    "          resolve(result);\n",
    "        }\n",
    "      }\n",
    "      args.push(callbackFunction)\n",
    "      func.call(this, ...args);\n",
    "    });\n",
    "  };\n",
    "}"
   ]
  },
  {
   "cell_type": "code",
   "execution_count": 7,
   "id": "6dc2ee2e-6fd5-49de-a8d4-73e7311db734",
   "metadata": {},
   "outputs": [
    {
     "name": "stdout",
     "output_type": "stream",
     "text": [
      "I am executed\n"
     ]
    },
    {
     "data": {
      "text/plain": [
       "Promise { \u001b[36m<pending>\u001b[39m }"
      ]
     },
     "execution_count": 7,
     "metadata": {},
     "output_type": "execute_result"
    }
   ],
   "source": [
    "const asyncPrintData = customPromisify(testP.printData);\n",
    "asyncPrintData()\n",
    "  .then((data) => console.log(data))\n",
    "  .catch((err) => console.log(err));"
   ]
  },
  {
   "cell_type": "code",
   "execution_count": 8,
   "id": "6e763d4e-5233-468e-81b9-1103d3e6f704",
   "metadata": {},
   "outputs": [
    {
     "name": "stdout",
     "output_type": "stream",
     "text": [
      "I am executed\n"
     ]
    },
    {
     "data": {
      "text/plain": [
       "Promise { \u001b[36m<pending>\u001b[39m }"
      ]
     },
     "execution_count": 8,
     "metadata": {},
     "output_type": "execute_result"
    },
    {
     "name": "stdout",
     "output_type": "stream",
     "text": [
      "Some Data\n"
     ]
    }
   ],
   "source": [
    "const asyncPrintDataBind = customPromisify(testP.printData).bind(testP);\n",
    "asyncPrintDataBind()\n",
    "  .then((data) => console.log(data))\n",
    "  .catch((err) => console.log(err));"
   ]
  },
  {
   "cell_type": "markdown",
   "id": "ce843a7e-cdb0-4793-9604-f9350742702c",
   "metadata": {},
   "source": [
    "# Modules"
   ]
  },
  {
   "cell_type": "markdown",
   "id": "3e050ce9-1ebc-45fe-a74d-81581902f4f8",
   "metadata": {},
   "source": [
    "A module is a chunk of code in an external file that performs a specific task or function. It is a separate entity within a program, allowing for modularity and code reusability. By encapsulating related code into modules, developers can organize their programs more efficiently and make them easier to maintain."
   ]
  },
  {
   "cell_type": "code",
   "execution_count": 39,
   "id": "3f1d03eb-aa1f-45dd-b808-c7b7fb280594",
   "metadata": {},
   "outputs": [],
   "source": [
    "var math = (function () {\n",
    "  function add(a, b) {\n",
    "    return a + b;\n",
    "  }\n",
    "\n",
    "  function sub(a, b) {\n",
    "    return a - b;\n",
    "  }\n",
    "\n",
    "  function mul(a, b){\n",
    "    return a * b;\n",
    "  }\n",
    "\n",
    "  return { add, sub };\n",
    "})();\n"
   ]
  },
  {
   "cell_type": "code",
   "execution_count": 33,
   "id": "b63fa5eb-13bc-4fa2-81a6-85cc5479958d",
   "metadata": {},
   "outputs": [],
   "source": [
    "var stringOps = (function () {\n",
    "  function add(a, b) {\n",
    "    return a + b;\n",
    "  }\n",
    "\n",
    "  function sub(s, l, r) {\n",
    "    return s.substring(l, r);\n",
    "  }\n",
    "\n",
    "  return { add, sub };\n",
    "})();"
   ]
  },
  {
   "cell_type": "code",
   "execution_count": 34,
   "id": "1d6493b0-790b-4f95-996e-2da25b0874c6",
   "metadata": {},
   "outputs": [
    {
     "data": {
      "text/plain": [
       "\u001b[32m\"y\"\u001b[39m"
      ]
     },
     "execution_count": 34,
     "metadata": {},
     "output_type": "execute_result"
    }
   ],
   "source": [
    "math.add(2, 3);"
   ]
  },
  {
   "cell_type": "code",
   "execution_count": 36,
   "id": "cdbed7ef-5dac-403e-89cd-fa2ed6cc7b9a",
   "metadata": {},
   "outputs": [
    {
     "data": {
      "text/plain": [
       "\u001b[33m2\u001b[39m"
      ]
     },
     "execution_count": 36,
     "metadata": {},
     "output_type": "execute_result"
    }
   ],
   "source": [
    "math.sub(10, 8);"
   ]
  },
  {
   "cell_type": "code",
   "execution_count": 37,
   "id": "860a18c7-661f-409d-97df-efe1a204dca5",
   "metadata": {},
   "outputs": [
    {
     "data": {
      "text/plain": [
       "\u001b[32m\"ab\"\u001b[39m"
      ]
     },
     "execution_count": 37,
     "metadata": {},
     "output_type": "execute_result"
    }
   ],
   "source": [
    "stringOps.add(\"a\", \"b\");"
   ]
  },
  {
   "cell_type": "code",
   "execution_count": 38,
   "id": "2f2f5bc2-0585-4988-91d8-a6381b9c4398",
   "metadata": {},
   "outputs": [
    {
     "data": {
      "text/plain": [
       "\u001b[32m\"y\"\u001b[39m"
      ]
     },
     "execution_count": 38,
     "metadata": {},
     "output_type": "execute_result"
    }
   ],
   "source": [
    "stringOps.sub(\"Flying\", 2, 3);"
   ]
  },
  {
   "cell_type": "code",
   "execution_count": 40,
   "id": "952eb250-e51c-448c-8965-36485d727cad",
   "metadata": {},
   "outputs": [
    {
     "ename": "TypeError",
     "evalue": "math.mul is not a function",
     "output_type": "error",
     "traceback": [
      "Stack trace:",
      "TypeError: math.mul is not a function",
      "    at <anonymous>:1:27"
     ]
    }
   ],
   "source": [
    "math.mul(2, 3)"
   ]
  },
  {
   "cell_type": "markdown",
   "id": "5bfcfa9b-014a-4b36-8425-150e4feb8a4b",
   "metadata": {},
   "source": [
    "This is how webpack modules work. Look into the webpack generated JS file"
   ]
  },
  {
   "cell_type": "code",
   "execution_count": 49,
   "id": "d9d304ce-e4ef-4261-9af2-fe4e3e59adc5",
   "metadata": {},
   "outputs": [],
   "source": [
    "import * as fs from \"node:fs\";\n",
    "\n",
    "function customRequire(modulePath) {\n",
    "  const moduleAbsPath = modulePath;\n",
    "\n",
    "  const contents = fs.readFileSync(moduleAbsPath, {\n",
    "    encoding: \"utf8\",\n",
    "    flag: \"r\",\n",
    "  });\n",
    "\n",
    "  const exports = (function () {\n",
    "    const customModule = {};\n",
    "    eval(contents);\n",
    "    return customModule.exports;\n",
    "  })();\n",
    "\n",
    "  return exports;\n",
    "}"
   ]
  },
  {
   "cell_type": "code",
   "execution_count": 50,
   "id": "cec93985-4723-455a-8fd2-0b555591537a",
   "metadata": {},
   "outputs": [
    {
     "name": "stdout",
     "output_type": "stream",
     "text": [
      "\u001b[33m5\u001b[39m\n",
      "AB\n"
     ]
    }
   ],
   "source": [
    "const mathJs = customRequire(\"math.js\");\n",
    "const stringOpsJs = customRequire(\"string-ops.js\");\n",
    "\n",
    "console.log(mathJs.add(2, 3));\n",
    "console.log(stringOpsJs.add(\"A\", \"B\"));"
   ]
  },
  {
   "cell_type": "code",
   "execution_count": 51,
   "id": "57662723-d683-4b47-85d5-00579ef71010",
   "metadata": {},
   "outputs": [
    {
     "ename": "TypeError",
     "evalue": "mathJs.mul is not a function",
     "output_type": "error",
     "traceback": [
      "Stack trace:",
      "TypeError: mathJs.mul is not a function",
      "    at <anonymous>:1:41"
     ]
    }
   ],
   "source": [
    "console.log(mathJs.mul(2, 3))"
   ]
  },
  {
   "cell_type": "markdown",
   "id": "3ed7d341-27ca-45fa-b90e-6a48726f481b",
   "metadata": {},
   "source": [
    "### Promise.all()"
   ]
  },
  {
   "cell_type": "code",
   "execution_count": 10,
   "id": "2fc574d6-58aa-4f7b-a0d1-4f4e7c57f4d7",
   "metadata": {},
   "outputs": [
    {
     "name": "stdout",
     "output_type": "stream",
     "text": [
      "A B C\n",
      "ABC\n"
     ]
    }
   ],
   "source": [
    "const promiseA = Promise.resolve('A');\n",
    "const promiseB = Promise.resolve('B');\n",
    "const promiseC = Promise.resolve('C');\n",
    "const [a, b, c] = await Promise.all([promiseA, promiseB, promiseC]);\n",
    "console.log(a, b, c);\n",
    "console.log( a + b + c);"
   ]
  },
  {
   "cell_type": "code",
   "execution_count": 15,
   "id": "5a1bd46c-4f70-4675-8267-7f951d3b17ef",
   "metadata": {},
   "outputs": [
    {
     "ename": "Error",
     "evalue": "Failed on C",
     "output_type": "error",
     "traceback": [
      "Stack trace:",
      "Error: Failed on C",
      "    at <anonymous>:3:33"
     ]
    }
   ],
   "source": [
    "const promiseA = Promise.resolve('A');\n",
    "const promiseB = Promise.resolve('B');\n",
    "const promiseC = Promise.reject(new Error('Failed on C'));\n",
    "const [a, b, c] = await Promise.all([promiseA, promiseB, promiseC]);\n",
    "console.log(a, b, c);"
   ]
  },
  {
   "cell_type": "markdown",
   "id": "c0670a4d-1696-4e80-b6b8-69245b425698",
   "metadata": {},
   "source": [
    "### Promise.allSetteled()"
   ]
  },
  {
   "cell_type": "code",
   "execution_count": 16,
   "id": "621e3021-f478-4d20-9920-e1a93d90ec5c",
   "metadata": {},
   "outputs": [
    {
     "data": {
      "text/plain": [
       "Promise { \u001b[36m<pending>\u001b[39m }"
      ]
     },
     "execution_count": 16,
     "metadata": {},
     "output_type": "execute_result"
    },
    {
     "name": "stdout",
     "output_type": "stream",
     "text": [
      "fulfilled\n",
      "rejected\n"
     ]
    }
   ],
   "source": [
    "const promise1 = Promise.resolve(3);\n",
    "const promise2 = new Promise((resolve, reject) =>\n",
    "  setTimeout(reject, 100, 'foo'),\n",
    ");\n",
    "const promises = [promise1, promise2];\n",
    "\n",
    "Promise.allSettled(promises).then((results) =>\n",
    "  results.forEach((result) => console.log(result.status)),\n",
    ");"
   ]
  },
  {
   "cell_type": "markdown",
   "id": "88750a6e-1e2b-4d9d-9e5b-e27b78a9bcbf",
   "metadata": {},
   "source": [
    "### Promise.race()"
   ]
  },
  {
   "cell_type": "code",
   "execution_count": 21,
   "id": "786cd0be-0bc3-4c2f-8b36-25735070ee40",
   "metadata": {},
   "outputs": [
    {
     "data": {
      "text/plain": [
       "Promise { \u001b[36m<pending>\u001b[39m }"
      ]
     },
     "execution_count": 21,
     "metadata": {},
     "output_type": "execute_result"
    },
    {
     "name": "stdout",
     "output_type": "stream",
     "text": [
      "two\n"
     ]
    }
   ],
   "source": [
    "const promise1 = new Promise((resolve, reject) => {\n",
    "  setTimeout(resolve, 500, 'one');\n",
    "});\n",
    "\n",
    "const promise2 = new Promise((resolve, reject) => {\n",
    "  setTimeout(resolve, 100, 'two');\n",
    "});\n",
    "\n",
    "Promise.race([promise1, promise2]).then((value) => {\n",
    "  console.log(value);\n",
    "});"
   ]
  },
  {
   "cell_type": "markdown",
   "id": "a7499045-195e-4a1a-8441-6d1e1377ab94",
   "metadata": {},
   "source": [
    "# Event Loop:\n",
    "Event Loop [visualization tool](https://www.jsv9000.app/)"
   ]
  },
  {
   "cell_type": "markdown",
   "id": "b084fd44-b4ae-4dc9-b722-e4cc15462648",
   "metadata": {},
   "source": [
    "# Generator and Iterator"
   ]
  },
  {
   "cell_type": "markdown",
   "id": "b8b48aac-7b39-48c5-8525-63db0bf2df92",
   "metadata": {},
   "source": [
    "## Iterator Examples:"
   ]
  },
  {
   "cell_type": "markdown",
   "id": "5d791ad5-3496-4ba6-a6c4-520887656ae8",
   "metadata": {},
   "source": [
    "What is Iterator return object which contain a function\n",
    "named next which will return following\n",
    "`{ value: <SOME_VALUE>, done: TRUE OR FALSE }`\n"
   ]
  },
  {
   "cell_type": "code",
   "execution_count": 52,
   "id": "6f56d5f9-4067-4fe0-bcf4-a4c6dbd96fcb",
   "metadata": {},
   "outputs": [],
   "source": [
    "const myIterableObj = {\n",
    "  [Symbol.iterator]() {\n",
    "    let count = 0;\n",
    "    return {\n",
    "      next() {\n",
    "        return { value: count++, done: Boolean(count > 10) };\n",
    "      },\n",
    "    };\n",
    "  },\n",
    "};"
   ]
  },
  {
   "cell_type": "markdown",
   "id": "6527deb8-e656-491c-9c02-78cda2288114",
   "metadata": {},
   "source": [
    "Learn about [Symbol](https://developer.mozilla.org/en-US/docs/Web/JavaScript/Reference/Global_Objects/Symbol#well-known_symbols)"
   ]
  },
  {
   "cell_type": "code",
   "execution_count": 53,
   "id": "8c1ecfe1-c7c5-4fdb-b305-793a60a4d88a",
   "metadata": {},
   "outputs": [
    {
     "name": "stdout",
     "output_type": "stream",
     "text": [
      "\u001b[33m0\u001b[39m\n",
      "\u001b[33m1\u001b[39m\n",
      "\u001b[33m2\u001b[39m\n",
      "\u001b[33m3\u001b[39m\n",
      "\u001b[33m4\u001b[39m\n",
      "\u001b[33m5\u001b[39m\n",
      "\u001b[33m6\u001b[39m\n",
      "\u001b[33m7\u001b[39m\n",
      "\u001b[33m8\u001b[39m\n",
      "\u001b[33m9\u001b[39m\n"
     ]
    }
   ],
   "source": [
    "for (const val of myIterableObj) {\n",
    "  console.log(val);\n",
    "}"
   ]
  },
  {
   "cell_type": "code",
   "execution_count": 54,
   "id": "43ed5819-6a98-4fa8-a3f4-bea7aa36187d",
   "metadata": {},
   "outputs": [],
   "source": [
    "// Generating Iterator\n",
    "function getFibIterator(n = 10) {\n",
    "  let N_1thFib = 0,\n",
    "    N_2thFib = 1,\n",
    "    count = 0;\n",
    "  return {\n",
    "    [Symbol.iterator]() {\n",
    "      return {\n",
    "        next() {\n",
    "          const NthFib = N_1thFib + N_2thFib;\n",
    "          N_2thFib = N_1thFib;\n",
    "          N_1thFib = NthFib;\n",
    "          count++;\n",
    "          return { value: NthFib, done: Boolean(count == n) };\n",
    "        },\n",
    "      };\n",
    "    },\n",
    "  };\n",
    "}"
   ]
  },
  {
   "cell_type": "code",
   "execution_count": 55,
   "id": "2081fee3-9e23-403c-b053-caa9caff11a5",
   "metadata": {},
   "outputs": [
    {
     "name": "stdout",
     "output_type": "stream",
     "text": [
      "\u001b[33m1\u001b[39m\n",
      "\u001b[33m1\u001b[39m\n",
      "\u001b[33m2\u001b[39m\n",
      "\u001b[33m3\u001b[39m\n",
      "\u001b[33m5\u001b[39m\n",
      "\u001b[33m8\u001b[39m\n",
      "\u001b[33m13\u001b[39m\n",
      "\u001b[33m21\u001b[39m\n",
      "\u001b[33m34\u001b[39m\n"
     ]
    }
   ],
   "source": [
    "const fibIterator = getFibIterator(10);\n",
    "\n",
    "for (const val of fibIterator) {\n",
    "  console.log(val);\n",
    "}"
   ]
  },
  {
   "cell_type": "markdown",
   "id": "ddac762e-0940-4898-bce3-83a8416d7144",
   "metadata": {},
   "source": [
    "## Generator Examples:"
   ]
  },
  {
   "cell_type": "code",
   "execution_count": 85,
   "id": "97d1ed5f-c9a9-459b-9124-bda1c11c3c14",
   "metadata": {},
   "outputs": [],
   "source": [
    "function* fooGenerator() {\n",
    "  yield \"a\";\n",
    "  yield \"b\";\n",
    "  yield \"c\";\n",
    "}"
   ]
  },
  {
   "cell_type": "code",
   "execution_count": 87,
   "id": "302db3e6-8d13-4758-87ba-58792536af85",
   "metadata": {},
   "outputs": [
    {
     "data": {
      "text/plain": [
       "Object [Generator] {}"
      ]
     },
     "execution_count": 87,
     "metadata": {},
     "output_type": "execute_result"
    }
   ],
   "source": [
    "const foo = fooGenerator();\n",
    "foo"
   ]
  },
  {
   "cell_type": "code",
   "execution_count": 88,
   "id": "e6a8a82d-b1fa-477a-8ee9-76153c67258f",
   "metadata": {},
   "outputs": [
    {
     "name": "stdout",
     "output_type": "stream",
     "text": [
      "{ value: \u001b[32m\"a\"\u001b[39m, done: \u001b[33mfalse\u001b[39m }\n",
      "{ value: \u001b[32m\"b\"\u001b[39m, done: \u001b[33mfalse\u001b[39m }\n",
      "{ value: \u001b[32m\"c\"\u001b[39m, done: \u001b[33mfalse\u001b[39m }\n",
      "{ value: \u001b[90mundefined\u001b[39m, done: \u001b[33mtrue\u001b[39m }\n",
      "{ value: \u001b[90mundefined\u001b[39m, done: \u001b[33mtrue\u001b[39m }\n"
     ]
    }
   ],
   "source": [
    "console.log(foo.next());\n",
    "console.log(foo.next());\n",
    "console.log(foo.next());\n",
    "console.log(foo.next());\n",
    "console.log(foo.next());"
   ]
  },
  {
   "cell_type": "code",
   "execution_count": 89,
   "id": "e1998960-971d-4126-95e3-946a83e21c0e",
   "metadata": {},
   "outputs": [
    {
     "name": "stdout",
     "output_type": "stream",
     "text": [
      "Test: abc\n"
     ]
    }
   ],
   "source": [
    "// Iterating over fooGenerator\n",
    "let str = \"Test: \";\n",
    "for (const val of fooGenerator()) {\n",
    "  str = str + val;\n",
    "}\n",
    "\n",
    "console.log(str);"
   ]
  },
  {
   "cell_type": "markdown",
   "id": "59d41425-26bb-4c84-9639-0a15ce8df00b",
   "metadata": {},
   "source": [
    "### Generator with return statement"
   ]
  },
  {
   "cell_type": "code",
   "execution_count": 90,
   "id": "7128c7d3-3941-4a34-b5f4-e404ca5c794c",
   "metadata": {},
   "outputs": [
    {
     "name": "stdout",
     "output_type": "stream",
     "text": [
      "Test gen with Iterator: \u001b[33m1\u001b[39m\n",
      "Test gen with Iterator: \u001b[33m2\u001b[39m\n"
     ]
    }
   ],
   "source": [
    "function* testGen() {\n",
    "  yield 1;\n",
    "  yield 2;\n",
    "  return 3;\n",
    "}\n",
    "\n",
    "const testItr = testGen();\n",
    "\n",
    "for (const val of testGen()) {\n",
    "  console.log(\"Test gen with Iterator:\", val);\n",
    "}"
   ]
  },
  {
   "cell_type": "markdown",
   "id": "00ed1625-3476-4d41-b8b9-f220699649e3",
   "metadata": {},
   "source": [
    "### Infinite Generator"
   ]
  },
  {
   "cell_type": "code",
   "execution_count": 91,
   "id": "3246d1cb-0bbd-408b-a7b0-27d6e6fae90f",
   "metadata": {},
   "outputs": [
    {
     "name": "stdout",
     "output_type": "stream",
     "text": [
      "\u001b[33m0\u001b[39m\n",
      "\u001b[33m1\u001b[39m\n",
      "\u001b[33m2\u001b[39m\n"
     ]
    }
   ],
   "source": [
    "function* infinite() {\n",
    "  let index = 0;\n",
    "\n",
    "  while (true) {\n",
    "    yield index++;\n",
    "  }\n",
    "}\n",
    "\n",
    "const generator = infinite();\n",
    "\n",
    "console.log(generator.next().value);\n",
    "console.log(generator.next().value);\n",
    "console.log(generator.next().value);"
   ]
  },
  {
   "cell_type": "markdown",
   "id": "9c0c7a33-3b5f-4942-9432-6b528c52596d",
   "metadata": {},
   "source": [
    "### Iterator using yield"
   ]
  },
  {
   "cell_type": "code",
   "execution_count": 92,
   "id": "dec5db3f-9771-4c26-92b0-7455c864ac84",
   "metadata": {},
   "outputs": [
    {
     "name": "stdout",
     "output_type": "stream",
     "text": [
      "\u001b[33m1\u001b[39m\n",
      "\u001b[33m2\u001b[39m\n",
      "\u001b[33m3\u001b[39m\n",
      "[ \u001b[33m1\u001b[39m, \u001b[33m2\u001b[39m, \u001b[33m3\u001b[39m ]\n"
     ]
    }
   ],
   "source": [
    "const myIterable = {\n",
    "  *[Symbol.iterator]() {\n",
    "    yield 1;\n",
    "    yield 2;\n",
    "    yield 3;\n",
    "  },\n",
    "};\n",
    "\n",
    "for (const value of myIterable) {\n",
    "  console.log(value);\n",
    "}\n",
    "\n",
    "console.log([...myIterable]);"
   ]
  },
  {
   "cell_type": "markdown",
   "id": "5acc431a-d1f0-4496-9472-73f39b6c3edd",
   "metadata": {},
   "source": [
    "### Fibonacci Iteraror Using Generator"
   ]
  },
  {
   "cell_type": "code",
   "execution_count": 93,
   "id": "fbcaa714-cb86-4ee5-80c0-07cc0da46063",
   "metadata": {},
   "outputs": [],
   "source": [
    "function* fibGenerator(n = 10) {\n",
    "  let N_1thFib = 0,\n",
    "    N_2thFib = 1,\n",
    "    count = 0;\n",
    "  if (count <= n) {\n",
    "    const NthFib = N_1thFib + N_2thFib;\n",
    "    N_2thFib = N_1thFib;\n",
    "    N_1thFib = NthFib;\n",
    "    count++;\n",
    "    yield NthFib;\n",
    "  }\n",
    "}"
   ]
  },
  {
   "cell_type": "code",
   "execution_count": 94,
   "id": "faefb173-f293-42c9-b15f-f49a9bbf545f",
   "metadata": {},
   "outputs": [
    {
     "name": "stdout",
     "output_type": "stream",
     "text": [
      "\u001b[33m1\u001b[39m\n",
      "\u001b[33m1\u001b[39m\n",
      "\u001b[33m2\u001b[39m\n",
      "\u001b[33m3\u001b[39m\n",
      "\u001b[33m5\u001b[39m\n",
      "\u001b[33m8\u001b[39m\n",
      "\u001b[33m13\u001b[39m\n",
      "\u001b[33m21\u001b[39m\n",
      "\u001b[33m34\u001b[39m\n"
     ]
    }
   ],
   "source": [
    "const fibItr = getFibIterator(10);\n",
    "\n",
    "for (const val of fibItr) {\n",
    "  console.log(val);\n",
    "}"
   ]
  },
  {
   "cell_type": "markdown",
   "id": "b24c558b-ad87-4e43-b8c6-4f0df2cdf296",
   "metadata": {},
   "source": [
    "### Delegating to another generator:"
   ]
  },
  {
   "cell_type": "code",
   "execution_count": 95,
   "id": "99c3068c-90d8-4e12-8a56-b7796fe7fae5",
   "metadata": {},
   "outputs": [
    {
     "name": "stdout",
     "output_type": "stream",
     "text": [
      "\u001b[33m1\u001b[39m\n",
      "\u001b[33m2\u001b[39m\n",
      "\u001b[33m3\u001b[39m\n",
      "\u001b[33m4\u001b[39m\n",
      "\u001b[33m5\u001b[39m\n"
     ]
    }
   ],
   "source": [
    "function* g1() {\n",
    "  yield 2;\n",
    "  yield 3;\n",
    "  yield 4;\n",
    "}\n",
    "\n",
    "function* g2() {\n",
    "  yield 1;\n",
    "  yield* g1();\n",
    "  yield 5;\n",
    "}\n",
    "\n",
    "const itrFromG2 = g2();\n",
    "\n",
    "for (const val of itrFromG2) {\n",
    "  console.log(val);\n",
    "}"
   ]
  },
  {
   "cell_type": "markdown",
   "id": "64d166e6-c651-46ff-8ceb-96c566fceb44",
   "metadata": {},
   "source": [
    "### Async Iterator:"
   ]
  },
  {
   "cell_type": "code",
   "execution_count": 98,
   "id": "66147f37-50da-4fad-ab85-9d57f3112f46",
   "metadata": {},
   "outputs": [
    {
     "name": "stdout",
     "output_type": "stream",
     "text": [
      "abc\n"
     ]
    },
    {
     "data": {
      "text/plain": [
       "Promise { \u001b[90mundefined\u001b[39m }"
      ]
     },
     "execution_count": 98,
     "metadata": {},
     "output_type": "execute_result"
    }
   ],
   "source": [
    "async function* fooAsync() {\n",
    "  yield await Promise.resolve('a');\n",
    "  yield await Promise.resolve('b');\n",
    "  yield await Promise.resolve('c');\n",
    "}\n",
    "\n",
    "let testStr = '';\n",
    "\n",
    "async function generate() {\n",
    "  for await (const val of fooAsync()) {\n",
    "    testStr = testStr + val;\n",
    "  }\n",
    "  console.log(testStr);\n",
    "}\n",
    "\n",
    "generate();"
   ]
  },
  {
   "cell_type": "markdown",
   "id": "d1cf1e19-9581-4623-9789-a514c204a1e1",
   "metadata": {},
   "source": [
    "# Homework"
   ]
  },
  {
   "cell_type": "markdown",
   "id": "a423c78a-f4a9-493f-a96a-da31f860565e",
   "metadata": {},
   "source": [
    "- Work write a async iterator to iterate over paginated response in for loop [using this dummy data API](https://dummyjson.com/docs/posts#posts-limit_skip)"
   ]
  }
 ],
 "metadata": {
  "kernelspec": {
   "display_name": "Deno",
   "language": "typescript",
   "name": "deno"
  },
  "language_info": {
   "codemirror_mode": "typescript",
   "file_extension": ".ts",
   "mimetype": "text/x.typescript",
   "name": "typescript",
   "nbconvert_exporter": "script",
   "pygments_lexer": "typescript",
   "version": "5.6.2"
  }
 },
 "nbformat": 4,
 "nbformat_minor": 5
}
